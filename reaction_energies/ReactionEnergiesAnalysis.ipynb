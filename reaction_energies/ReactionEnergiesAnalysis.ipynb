{
 "cells": [
  {
   "cell_type": "code",
   "execution_count": 1,
   "id": "b53ae963-ac1c-44f2-87d2-9fa53b21fb74",
   "metadata": {},
   "outputs": [],
   "source": [
    "import pandas as pd\n",
    "import seaborn as sns\n",
    "import matplotlib.pyplot as plt\n",
    "import json\n",
    "from pathlib import Path\n",
    "\n",
    "import py3Dmol as p3d\n",
    "\n",
    "AU2KCAL = 627.5094740630558"
   ]
  },
  {
   "cell_type": "code",
   "execution_count": 2,
   "id": "09863c7f-3d3c-420d-a219-e30a9b827fa2",
   "metadata": {},
   "outputs": [],
   "source": [
    "def getEnergy(j: Path) -> float:\n",
    "    \"\"\"Return total energy from JSON file.\"\"\"\n",
    "    with j.open() as f:\n",
    "        output = json.loads(f.read())\n",
    "    return output['output']['properties']['scf_energy']['E_tot']\n",
    "\n",
    "\n",
    "def readXYZ(file: Path) -> str:\n",
    "    \"\"\"Return XYZ file contents as string.\"\"\"\n",
    "    with file.open() as f:\n",
    "        return f.read()"
   ]
  },
  {
   "cell_type": "markdown",
   "id": "bbeb7f3f-0d57-4a98-b8c2-859bde362c36",
   "metadata": {},
   "source": [
    "## Collect data and compute reaction energies"
   ]
  },
  {
   "cell_type": "code",
   "execution_count": 3,
   "id": "bc1c5fe0-5d5b-43d1-8d61-16bd480daa7f",
   "metadata": {},
   "outputs": [],
   "source": [
    "dir_zora = Path.cwd().joinpath('calcs_zora')\n",
    "dir_nrel = Path.cwd().joinpath('calcs_nrel')\n",
    "\n",
    "# Collect data\n",
    "table_nrel = []\n",
    "table_zora = []\n",
    "for f in dir_zora.glob('*.json'):\n",
    "    id_ = f.stem\n",
    "    mol, frag, preclabel = id_.split('_')\n",
    "    e = getEnergy(f)\n",
    "    table_zora.append((id_, mol, frag, preclabel, e))\n",
    "\n",
    "for f in dir_nrel.glob('*.json'):\n",
    "    id_ = f.stem\n",
    "    mol, frag, preclabel = id_.split('_')\n",
    "    e = getEnergy(f)\n",
    "    table_nrel.append((id_, mol, frag, preclabel, e))\n",
    "    \n",
    "# Make DataFrames\n",
    "cols = ['ID', 'Reaction', 'Fragment', 'PrecLabel', 'TotalEnergy']\n",
    "zora = pd.DataFrame(table_zora, columns=cols).sort_values(by=['Reaction', 'Fragment']).reset_index(drop=True)\n",
    "nrel = pd.DataFrame(table_nrel, columns=cols).sort_values(by=['Reaction', 'Fragment']).reset_index(drop=True)\n",
    "\n",
    "# Pivot DataFrames\n",
    "zora = pd.pivot_table(zora, values='TotalEnergy', columns='Fragment', index='Reaction')\n",
    "nrel = pd.pivot_table(nrel, values='TotalEnergy', columns='Fragment', index='Reaction')\n",
    "\n",
    "# Compute reaction energies\n",
    "zora['ReactionEnergy'] = (zora.Complex - zora.Fragment1 - zora.Fragment2) * AU2KCAL\n",
    "nrel['ReactionEnergy'] = (nrel.Complex - nrel.Fragment1 - nrel.Fragment2) * AU2KCAL\n",
    "\n",
    "diff = nrel - zora"
   ]
  },
  {
   "cell_type": "markdown",
   "id": "603354c0-6f2e-4822-b328-a24bd53cbd72",
   "metadata": {},
   "source": [
    "## Comparison of reaction energies"
   ]
  },
  {
   "cell_type": "code",
   "execution_count": 4,
   "id": "be17849d-a08e-4e8d-b52d-740229ee0ab7",
   "metadata": {},
   "outputs": [
    {
     "name": "stdout",
     "output_type": "stream",
     "text": [
      "\\begin{tabular}{lrrrr}\n",
      "\\toprule\n",
      "Fragment &      Complex &    Fragment1 &   Fragment2 &  ReactionEnergy \\\\\n",
      "Reaction   &              &              &             &                 \\\\\n",
      "\\midrule\n",
      "Cr-Alkene1 & -1699.852817 & -1621.254527 &  -78.558078 &      -25.233499 \\\\\n",
      "Cr-MeOH    & -1737.036365 & -1621.254527 & -115.752929 &      -18.140480 \\\\\n",
      "Cr-THF     & -1853.729814 & -1621.254527 & -232.444315 &      -19.435322 \\\\\n",
      "Fe-MeOH    & -3063.948578 & -2948.172431 & -115.752929 &      -14.569730 \\\\\n",
      "Ni-Alkene1 & -1946.211785 & -1867.625856 &  -78.558078 &      -17.476684 \\\\\n",
      "Ni-MeOH    & -1983.389916 & -1867.625856 & -115.752929 &       -6.984358 \\\\\n",
      "Ni-NHC1    & -2172.455631 & -1867.625856 & -304.769788 &      -37.642531 \\\\\n",
      "Ni-THF     & -2100.082718 & -1867.625856 & -232.444315 &       -7.873471 \\\\\n",
      "\\bottomrule\n",
      "\\end{tabular}\n",
      "\n"
     ]
    }
   ],
   "source": [
    "# ZORA energies\n",
    "print(zora.to_latex())"
   ]
  },
  {
   "cell_type": "code",
   "execution_count": 5,
   "id": "998f32d8-2288-4afb-9f0e-961668d418b2",
   "metadata": {},
   "outputs": [
    {
     "name": "stdout",
     "output_type": "stream",
     "text": [
      "\\begin{tabular}{lrrrr}\n",
      "\\toprule\n",
      "Fragment &      Complex &    Fragment1 &   Fragment2 &  ReactionEnergy \\\\\n",
      "Reaction   &              &              &             &                 \\\\\n",
      "\\midrule\n",
      "Cr-Alkene1 & -1689.278481 & -1610.730249 &  -78.508417 &      -24.984060 \\\\\n",
      "Cr-MeOH    & -1726.401682 & -1610.730249 & -115.642495 &      -18.159158 \\\\\n",
      "Cr-THF     & -1843.020883 & -1610.730249 & -232.259491 &      -19.542192 \\\\\n",
      "Fe-MeOH    & -3046.433039 & -2930.767498 & -115.642495 &      -14.461965 \\\\\n",
      "Ni-Alkene1 & -1926.579498 & -1848.045060 &  -78.508417 &      -16.327864 \\\\\n",
      "Ni-MeOH    & -1963.698947 & -1848.045060 & -115.642495 &       -7.148634 \\\\\n",
      "Ni-NHC1    & -2152.652469 & -1848.045060 & -304.549110 &      -36.582752 \\\\\n",
      "Ni-THF     & -2080.317452 & -1848.045060 & -232.259491 &       -8.095297 \\\\\n",
      "\\bottomrule\n",
      "\\end{tabular}\n",
      "\n"
     ]
    }
   ],
   "source": [
    "# Non-relativistic energies\n",
    "print(nrel.to_latex())"
   ]
  },
  {
   "cell_type": "code",
   "execution_count": 6,
   "id": "3f5bd662-8c64-4350-bc7f-6bd092136d08",
   "metadata": {},
   "outputs": [
    {
     "name": "stdout",
     "output_type": "stream",
     "text": [
      "\\begin{tabular}{lrrrr}\n",
      "\\toprule\n",
      "Fragment &    Complex &  Fragment1 &  Fragment2 &  ReactionEnergy \\\\\n",
      "Reaction   &            &            &            &                 \\\\\n",
      "\\midrule\n",
      "Cr-Alkene1 &  10.574336 &  10.524278 &   0.049661 &        0.249439 \\\\\n",
      "Cr-MeOH    &  10.634683 &  10.524278 &   0.110435 &       -0.018679 \\\\\n",
      "Cr-THF     &  10.708931 &  10.524278 &   0.184824 &       -0.106870 \\\\\n",
      "Fe-MeOH    &  17.515539 &  17.404932 &   0.110435 &        0.107765 \\\\\n",
      "Ni-Alkene1 &  19.632287 &  19.580796 &   0.049661 &        1.148820 \\\\\n",
      "Ni-MeOH    &  19.690969 &  19.580796 &   0.110435 &       -0.164275 \\\\\n",
      "Ni-NHC1    &  19.803163 &  19.580796 &   0.220678 &        1.059779 \\\\\n",
      "Ni-THF     &  19.765266 &  19.580796 &   0.184824 &       -0.221826 \\\\\n",
      "\\bottomrule\n",
      "\\end{tabular}\n",
      "\n"
     ]
    }
   ],
   "source": [
    "# Energy differences between NREL and ZORA\n",
    "print(diff.to_latex())"
   ]
  },
  {
   "cell_type": "code",
   "execution_count": 7,
   "id": "45253d84-00d4-4941-9cf6-fb14b66d5a09",
   "metadata": {},
   "outputs": [
    {
     "name": "stdout",
     "output_type": "stream",
     "text": [
      "\\begin{tabular}{lrrr}\n",
      "\\toprule\n",
      "  Reaction &       ZORA &       NREL &  ZORA - NREL \\\\\n",
      "\\midrule\n",
      "Cr-Alkene1 & -25.233499 & -24.984060 &     0.249439 \\\\\n",
      "   Cr-MeOH & -18.140480 & -18.159158 &    -0.018679 \\\\\n",
      "    Cr-THF & -19.435322 & -19.542192 &    -0.106870 \\\\\n",
      "   Fe-MeOH & -14.569730 & -14.461965 &     0.107765 \\\\\n",
      "Ni-Alkene1 & -17.476684 & -16.327864 &     1.148820 \\\\\n",
      "   Ni-MeOH &  -6.984358 &  -7.148634 &    -0.164275 \\\\\n",
      "   Ni-NHC1 & -37.642531 & -36.582752 &     1.059779 \\\\\n",
      "    Ni-THF &  -7.873471 &  -8.095297 &    -0.221826 \\\\\n",
      "\\bottomrule\n",
      "\\end{tabular}\n",
      "\n"
     ]
    }
   ],
   "source": [
    "reactions = zora.index\n",
    "reactions.values\n",
    "e_zora = zora.ReactionEnergy\n",
    "e_nrel = nrel.ReactionEnergy\n",
    "e_diff = diff.ReactionEnergy\n",
    "\n",
    "data = pd.DataFrame({\"ZORA\": e_zora, \"NREL\": e_nrel, \"ZORA - NREL\": e_diff}).reset_index()\n",
    "print(data.to_latex(index=False))"
   ]
  },
  {
   "cell_type": "markdown",
   "id": "002b3552-022a-4f80-85c8-a2e9ac98753c",
   "metadata": {},
   "source": [
    "## Chromium-THF Complex"
   ]
  },
  {
   "cell_type": "code",
   "execution_count": 8,
   "id": "033be567-ed9a-4213-8b58-b10469d30f2f",
   "metadata": {},
   "outputs": [
    {
     "data": {
      "application/3dmoljs_load.v0": "<div id=\"3dmolviewer_16560741225497952\"  style=\"position: relative; width: 400px; height: 400px\">\n        <p id=\"3dmolwarning_16560741225497952\" style=\"background-color:#ffcccc;color:black\">You appear to be running in JupyterLab (or JavaScript failed to load for some other reason).  You need to install the 3dmol extension: <br>\n        <tt>jupyter labextension install jupyterlab_3dmol</tt></p>\n        </div>\n<script>\n\nvar loadScriptAsync = function(uri){\n  return new Promise((resolve, reject) => {\n    var tag = document.createElement('script');\n    tag.src = uri;\n    tag.async = true;\n    tag.onload = () => {\n      resolve();\n    };\n  var firstScriptTag = document.getElementsByTagName('script')[0];\n  firstScriptTag.parentNode.insertBefore(tag, firstScriptTag);\n});\n};\n\nif(typeof $3Dmolpromise === 'undefined') {\n$3Dmolpromise = null;\n  $3Dmolpromise = loadScriptAsync('https://3dmol.org/build/3Dmol.js');\n}\n\nvar viewer_16560741225497952 = null;\nvar warn = document.getElementById(\"3dmolwarning_16560741225497952\");\nif(warn) {\n    warn.parentNode.removeChild(warn);\n}\n$3Dmolpromise.then(function() {\nviewer_16560741225497952 = $3Dmol.createViewer($(\"#3dmolviewer_16560741225497952\"),{backgroundColor:\"white\"});\nviewer_16560741225497952.zoomTo();\n\tviewer_16560741225497952.addModel(\"24\\n0 1 angstrom\\nCr -7.132101 1.854596 2.859172\\nC -5.573592 1.898232 3.929807\\nC -6.208897 0.814893 1.578349\\nC -6.545057 3.363123 2.003443\\nC -8.030716 2.957627 4.103486\\nO -8.565567 3.684963 4.836063\\nO -4.595377 1.975464 4.552784\\nO -5.619176 0.229247 0.765435\\nO -6.171240 4.325475 1.458571\\nC -8.667770 1.869871 1.755670\\nO -9.590479 1.936130 1.051875\\nC -8.457505 -2.155015 4.262988\\nC -8.419386 -1.057313 3.203213\\nO -7.820831 0.076977 3.867304\\nC -7.766923 -0.124185 5.296875\\nC -8.645969 -1.345467 5.554569\\nH -7.493196 -2.703576 4.285900\\nH -9.265020 -2.890401 4.082714\\nH -9.436516 -0.771263 2.852575\\nH -7.801586 -1.307988 2.317738\\nH -8.125680 0.799672 5.793324\\nH -6.707388 -0.293449 5.593087\\nH -9.706720 -1.040685 5.669551\\nH -8.348198 -1.896799 6.467105\\n\",\"xyz\");\n\tviewer_16560741225497952.setStyle({\"stick\": {}});\n\tviewer_16560741225497952.zoomTo();\nviewer_16560741225497952.render();\n});\n</script>",
      "text/html": [
       "<div id=\"3dmolviewer_16560741225497952\"  style=\"position: relative; width: 400px; height: 400px\">\n",
       "        <p id=\"3dmolwarning_16560741225497952\" style=\"background-color:#ffcccc;color:black\">You appear to be running in JupyterLab (or JavaScript failed to load for some other reason).  You need to install the 3dmol extension: <br>\n",
       "        <tt>jupyter labextension install jupyterlab_3dmol</tt></p>\n",
       "        </div>\n",
       "<script>\n",
       "\n",
       "var loadScriptAsync = function(uri){\n",
       "  return new Promise((resolve, reject) => {\n",
       "    var tag = document.createElement('script');\n",
       "    tag.src = uri;\n",
       "    tag.async = true;\n",
       "    tag.onload = () => {\n",
       "      resolve();\n",
       "    };\n",
       "  var firstScriptTag = document.getElementsByTagName('script')[0];\n",
       "  firstScriptTag.parentNode.insertBefore(tag, firstScriptTag);\n",
       "});\n",
       "};\n",
       "\n",
       "if(typeof $3Dmolpromise === 'undefined') {\n",
       "$3Dmolpromise = null;\n",
       "  $3Dmolpromise = loadScriptAsync('https://3dmol.org/build/3Dmol.js');\n",
       "}\n",
       "\n",
       "var viewer_16560741225497952 = null;\n",
       "var warn = document.getElementById(\"3dmolwarning_16560741225497952\");\n",
       "if(warn) {\n",
       "    warn.parentNode.removeChild(warn);\n",
       "}\n",
       "$3Dmolpromise.then(function() {\n",
       "viewer_16560741225497952 = $3Dmol.createViewer($(\"#3dmolviewer_16560741225497952\"),{backgroundColor:\"white\"});\n",
       "viewer_16560741225497952.zoomTo();\n",
       "\tviewer_16560741225497952.addModel(\"24\\n0 1 angstrom\\nCr -7.132101 1.854596 2.859172\\nC -5.573592 1.898232 3.929807\\nC -6.208897 0.814893 1.578349\\nC -6.545057 3.363123 2.003443\\nC -8.030716 2.957627 4.103486\\nO -8.565567 3.684963 4.836063\\nO -4.595377 1.975464 4.552784\\nO -5.619176 0.229247 0.765435\\nO -6.171240 4.325475 1.458571\\nC -8.667770 1.869871 1.755670\\nO -9.590479 1.936130 1.051875\\nC -8.457505 -2.155015 4.262988\\nC -8.419386 -1.057313 3.203213\\nO -7.820831 0.076977 3.867304\\nC -7.766923 -0.124185 5.296875\\nC -8.645969 -1.345467 5.554569\\nH -7.493196 -2.703576 4.285900\\nH -9.265020 -2.890401 4.082714\\nH -9.436516 -0.771263 2.852575\\nH -7.801586 -1.307988 2.317738\\nH -8.125680 0.799672 5.793324\\nH -6.707388 -0.293449 5.593087\\nH -9.706720 -1.040685 5.669551\\nH -8.348198 -1.896799 6.467105\\n\",\"xyz\");\n",
       "\tviewer_16560741225497952.setStyle({\"stick\": {}});\n",
       "\tviewer_16560741225497952.zoomTo();\n",
       "viewer_16560741225497952.render();\n",
       "});\n",
       "</script>"
      ]
     },
     "metadata": {},
     "output_type": "display_data"
    }
   ],
   "source": [
    "data = readXYZ(Path.cwd().joinpath('xyz_files/Cr-THF_Complex.xyz'))\n",
    "p = p3d.view(width=400, height=400)\n",
    "p.addModel(data, 'xyz')\n",
    "p.setStyle({'stick': {}})\n",
    "p.zoomTo()\n",
    "p.show()"
   ]
  },
  {
   "cell_type": "markdown",
   "id": "e6f46ff3-bc87-42f0-899c-e643d0999077",
   "metadata": {},
   "source": [
    "## Nickel-NHC Complex"
   ]
  },
  {
   "cell_type": "code",
   "execution_count": 9,
   "id": "e43519c4-161c-41a7-bc2c-398f1c0fcb90",
   "metadata": {},
   "outputs": [
    {
     "data": {
      "application/3dmoljs_load.v0": "<div id=\"3dmolviewer_16560741225627468\"  style=\"position: relative; width: 400px; height: 400px\">\n        <p id=\"3dmolwarning_16560741225627468\" style=\"background-color:#ffcccc;color:black\">You appear to be running in JupyterLab (or JavaScript failed to load for some other reason).  You need to install the 3dmol extension: <br>\n        <tt>jupyter labextension install jupyterlab_3dmol</tt></p>\n        </div>\n<script>\n\nvar loadScriptAsync = function(uri){\n  return new Promise((resolve, reject) => {\n    var tag = document.createElement('script');\n    tag.src = uri;\n    tag.async = true;\n    tag.onload = () => {\n      resolve();\n    };\n  var firstScriptTag = document.getElementsByTagName('script')[0];\n  firstScriptTag.parentNode.insertBefore(tag, firstScriptTag);\n});\n};\n\nif(typeof $3Dmolpromise === 'undefined') {\n$3Dmolpromise = null;\n  $3Dmolpromise = loadScriptAsync('https://3dmol.org/build/3Dmol.js');\n}\n\nvar viewer_16560741225627468 = null;\nvar warn = document.getElementById(\"3dmolwarning_16560741225627468\");\nif(warn) {\n    warn.parentNode.removeChild(warn);\n}\n$3Dmolpromise.then(function() {\nviewer_16560741225627468 = $3Dmol.createViewer($(\"#3dmolviewer_16560741225627468\"),{backgroundColor:\"white\"});\nviewer_16560741225627468.zoomTo();\n\tviewer_16560741225627468.addModel(\"22\\n0 1 angstrom\\nNi 0.074051 2.689887 -0.944680\\nC 1.070426 1.795078 0.249622\\nC -0.930165 1.581987 -1.936855\\nC -1.006232 3.882408 -0.150204\\nO -1.613806 0.863823 -2.544899\\nO 1.727628 1.220572 1.016707\\nO -1.737687 4.620271 0.372631\\nH 0.544794 6.212746 -0.934483\\nH 0.681844 1.839839 -4.340555\\nC 1.553072 5.765601 -0.827873\\nC 2.723782 5.234855 -2.988940\\nN 1.862008 4.898368 -1.952677\\nH 2.306751 6.572527 -0.770737\\nC 2.757860 4.154997 -3.830645\\nC 1.336791 3.640293 -2.113605\\nH 3.242637 6.196735 -3.037450\\nN 1.915643 3.198768 -3.277438\\nC 1.675489 1.885498 -3.852197\\nH 3.312348 3.988273 -4.758829\\nH 2.460321 1.664223 -4.598859\\nH 1.570966 5.173633 0.105566\\nH 1.700890 1.125238 -3.050055\\n\",\"xyz\");\n\tviewer_16560741225627468.setStyle({\"stick\": {}});\n\tviewer_16560741225627468.zoomTo();\nviewer_16560741225627468.render();\n});\n</script>",
      "text/html": [
       "<div id=\"3dmolviewer_16560741225627468\"  style=\"position: relative; width: 400px; height: 400px\">\n",
       "        <p id=\"3dmolwarning_16560741225627468\" style=\"background-color:#ffcccc;color:black\">You appear to be running in JupyterLab (or JavaScript failed to load for some other reason).  You need to install the 3dmol extension: <br>\n",
       "        <tt>jupyter labextension install jupyterlab_3dmol</tt></p>\n",
       "        </div>\n",
       "<script>\n",
       "\n",
       "var loadScriptAsync = function(uri){\n",
       "  return new Promise((resolve, reject) => {\n",
       "    var tag = document.createElement('script');\n",
       "    tag.src = uri;\n",
       "    tag.async = true;\n",
       "    tag.onload = () => {\n",
       "      resolve();\n",
       "    };\n",
       "  var firstScriptTag = document.getElementsByTagName('script')[0];\n",
       "  firstScriptTag.parentNode.insertBefore(tag, firstScriptTag);\n",
       "});\n",
       "};\n",
       "\n",
       "if(typeof $3Dmolpromise === 'undefined') {\n",
       "$3Dmolpromise = null;\n",
       "  $3Dmolpromise = loadScriptAsync('https://3dmol.org/build/3Dmol.js');\n",
       "}\n",
       "\n",
       "var viewer_16560741225627468 = null;\n",
       "var warn = document.getElementById(\"3dmolwarning_16560741225627468\");\n",
       "if(warn) {\n",
       "    warn.parentNode.removeChild(warn);\n",
       "}\n",
       "$3Dmolpromise.then(function() {\n",
       "viewer_16560741225627468 = $3Dmol.createViewer($(\"#3dmolviewer_16560741225627468\"),{backgroundColor:\"white\"});\n",
       "viewer_16560741225627468.zoomTo();\n",
       "\tviewer_16560741225627468.addModel(\"22\\n0 1 angstrom\\nNi 0.074051 2.689887 -0.944680\\nC 1.070426 1.795078 0.249622\\nC -0.930165 1.581987 -1.936855\\nC -1.006232 3.882408 -0.150204\\nO -1.613806 0.863823 -2.544899\\nO 1.727628 1.220572 1.016707\\nO -1.737687 4.620271 0.372631\\nH 0.544794 6.212746 -0.934483\\nH 0.681844 1.839839 -4.340555\\nC 1.553072 5.765601 -0.827873\\nC 2.723782 5.234855 -2.988940\\nN 1.862008 4.898368 -1.952677\\nH 2.306751 6.572527 -0.770737\\nC 2.757860 4.154997 -3.830645\\nC 1.336791 3.640293 -2.113605\\nH 3.242637 6.196735 -3.037450\\nN 1.915643 3.198768 -3.277438\\nC 1.675489 1.885498 -3.852197\\nH 3.312348 3.988273 -4.758829\\nH 2.460321 1.664223 -4.598859\\nH 1.570966 5.173633 0.105566\\nH 1.700890 1.125238 -3.050055\\n\",\"xyz\");\n",
       "\tviewer_16560741225627468.setStyle({\"stick\": {}});\n",
       "\tviewer_16560741225627468.zoomTo();\n",
       "viewer_16560741225627468.render();\n",
       "});\n",
       "</script>"
      ]
     },
     "metadata": {},
     "output_type": "display_data"
    }
   ],
   "source": [
    "data = readXYZ(Path.cwd().joinpath('xyz_files/Ni-NHC1_Complex.xyz'))\n",
    "p = p3d.view(width=400, height=400)\n",
    "p.addModel(data, 'xyz')\n",
    "p.setStyle({'stick': {}})\n",
    "p.zoomTo()\n",
    "p.show()"
   ]
  },
  {
   "cell_type": "markdown",
   "id": "416a8328-f1fc-410b-b50d-0a84bd4c1046",
   "metadata": {},
   "source": [
    "## Fe-Pincer-MeOH Complex"
   ]
  },
  {
   "cell_type": "code",
   "execution_count": 10,
   "id": "bfdbab5b-0525-4537-8753-7572f49f2e78",
   "metadata": {},
   "outputs": [
    {
     "data": {
      "application/3dmoljs_load.v0": "<div id=\"3dmolviewer_1656074122593865\"  style=\"position: relative; width: 400px; height: 400px\">\n        <p id=\"3dmolwarning_1656074122593865\" style=\"background-color:#ffcccc;color:black\">You appear to be running in JupyterLab (or JavaScript failed to load for some other reason).  You need to install the 3dmol extension: <br>\n        <tt>jupyter labextension install jupyterlab_3dmol</tt></p>\n        </div>\n<script>\n\nvar loadScriptAsync = function(uri){\n  return new Promise((resolve, reject) => {\n    var tag = document.createElement('script');\n    tag.src = uri;\n    tag.async = true;\n    tag.onload = () => {\n      resolve();\n    };\n  var firstScriptTag = document.getElementsByTagName('script')[0];\n  firstScriptTag.parentNode.insertBefore(tag, firstScriptTag);\n});\n};\n\nif(typeof $3Dmolpromise === 'undefined') {\n$3Dmolpromise = null;\n  $3Dmolpromise = loadScriptAsync('https://3dmol.org/build/3Dmol.js');\n}\n\nvar viewer_1656074122593865 = null;\nvar warn = document.getElementById(\"3dmolwarning_1656074122593865\");\nif(warn) {\n    warn.parentNode.removeChild(warn);\n}\n$3Dmolpromise.then(function() {\nviewer_1656074122593865 = $3Dmol.createViewer($(\"#3dmolviewer_1656074122593865\"),{backgroundColor:\"white\"});\nviewer_1656074122593865.zoomTo();\n\tviewer_1656074122593865.addModel(\"63\\n1 1 angstrom\\nC 1.213787 2.198380 0.033349\\nN 0.021778 1.533450 0.018267\\nC -1.134210 2.246954 0.162419\\nC -1.137879 3.644833 0.276770\\nC 0.093913 4.310883 0.259659\\nC 1.291796 3.592667 0.144681\\nFe -0.024703 -0.452521 -0.172680\\nC -0.070806 -2.181668 -0.100446\\nO -0.097450 -3.345930 0.017605\\nO -2.288535 1.565271 0.192840\\nP -2.156558 -0.171377 0.068318\\nC -3.049244 -0.639214 1.624346\\nC -3.242365 -2.160835 1.696739\\nO 2.336462 1.464629 -0.062785\\nP 2.118799 -0.263735 0.022371\\nC 3.296724 -0.736600 -1.343777\\nC 4.667402 -0.059570 -1.241632\\nC -3.311844 -0.418395 -1.372656\\nC -3.183426 -1.831566 -1.958342\\nC -4.757275 -0.004712 -1.080927\\nC 2.954101 -0.655536 1.637917\\nC 2.607756 -2.089295 2.067807\\nC 2.562036 0.371609 2.706731\\nC 3.394954 -2.263727 -1.477718\\nC -2.330223 -0.080420 2.856481\\nH -0.003330 -0.519178 1.306979\\nH -2.095145 4.169958 0.383189\\nH 2.276217 4.076682 0.147750\\nH 0.122099 5.406666 0.350825\\nH 2.770900 -0.335606 -2.240146\\nH 4.044626 -0.577740 1.439468\\nH -4.039639 -0.143265 1.533175\\nH -2.872550 0.294667 -2.105908\\nH 5.254329 -0.268210 -2.159100\\nH 4.580612 1.037770 -1.130993\\nH 5.252641 -0.452874 -0.385976\\nH 2.404356 -2.761490 -1.503538\\nH 3.930149 -2.523364 -2.413109\\nH 3.972767 -2.705792 -0.641733\\nH -3.787945 -1.904309 -2.884857\\nH -2.134208 -2.069894 -2.217008\\nH -3.552652 -2.611342 -1.263876\\nH -4.817170 1.011203 -0.643697\\nH -5.341485 -0.000331 -2.023541\\nH -5.256122 -0.715934 -0.392196\\nH -3.757182 -2.420165 2.643615\\nH -3.863040 -2.553274 0.868244\\nH -2.273568 -2.699564 1.687903\\nH -1.334521 -0.550452 2.986993\\nH -2.193560 1.016965 2.797182\\nH -2.930041 -0.297609 3.763185\\nH 2.833229 -2.847397 1.293394\\nH 3.191448 -2.352361 2.972680\\nH 1.532833 -2.176122 2.321970\\nH 2.896386 1.393666 2.447077\\nH 1.462772 0.388637 2.859186\\nH 3.029151 0.094201 3.672995\\nO -0.113793 -0.264513 -2.309160\\nC 0.169969 0.935746 -3.043323\\nH 1.214037 1.283707 -2.888246\\nH -0.520548 1.716948 -2.677593\\nH -0.013986 0.776387 -4.124686\\nH 0.359358 -1.010801 -2.719370\\n\",\"xyz\");\n\tviewer_1656074122593865.setStyle({\"stick\": {}});\n\tviewer_1656074122593865.zoomTo();\nviewer_1656074122593865.render();\n});\n</script>",
      "text/html": [
       "<div id=\"3dmolviewer_1656074122593865\"  style=\"position: relative; width: 400px; height: 400px\">\n",
       "        <p id=\"3dmolwarning_1656074122593865\" style=\"background-color:#ffcccc;color:black\">You appear to be running in JupyterLab (or JavaScript failed to load for some other reason).  You need to install the 3dmol extension: <br>\n",
       "        <tt>jupyter labextension install jupyterlab_3dmol</tt></p>\n",
       "        </div>\n",
       "<script>\n",
       "\n",
       "var loadScriptAsync = function(uri){\n",
       "  return new Promise((resolve, reject) => {\n",
       "    var tag = document.createElement('script');\n",
       "    tag.src = uri;\n",
       "    tag.async = true;\n",
       "    tag.onload = () => {\n",
       "      resolve();\n",
       "    };\n",
       "  var firstScriptTag = document.getElementsByTagName('script')[0];\n",
       "  firstScriptTag.parentNode.insertBefore(tag, firstScriptTag);\n",
       "});\n",
       "};\n",
       "\n",
       "if(typeof $3Dmolpromise === 'undefined') {\n",
       "$3Dmolpromise = null;\n",
       "  $3Dmolpromise = loadScriptAsync('https://3dmol.org/build/3Dmol.js');\n",
       "}\n",
       "\n",
       "var viewer_1656074122593865 = null;\n",
       "var warn = document.getElementById(\"3dmolwarning_1656074122593865\");\n",
       "if(warn) {\n",
       "    warn.parentNode.removeChild(warn);\n",
       "}\n",
       "$3Dmolpromise.then(function() {\n",
       "viewer_1656074122593865 = $3Dmol.createViewer($(\"#3dmolviewer_1656074122593865\"),{backgroundColor:\"white\"});\n",
       "viewer_1656074122593865.zoomTo();\n",
       "\tviewer_1656074122593865.addModel(\"63\\n1 1 angstrom\\nC 1.213787 2.198380 0.033349\\nN 0.021778 1.533450 0.018267\\nC -1.134210 2.246954 0.162419\\nC -1.137879 3.644833 0.276770\\nC 0.093913 4.310883 0.259659\\nC 1.291796 3.592667 0.144681\\nFe -0.024703 -0.452521 -0.172680\\nC -0.070806 -2.181668 -0.100446\\nO -0.097450 -3.345930 0.017605\\nO -2.288535 1.565271 0.192840\\nP -2.156558 -0.171377 0.068318\\nC -3.049244 -0.639214 1.624346\\nC -3.242365 -2.160835 1.696739\\nO 2.336462 1.464629 -0.062785\\nP 2.118799 -0.263735 0.022371\\nC 3.296724 -0.736600 -1.343777\\nC 4.667402 -0.059570 -1.241632\\nC -3.311844 -0.418395 -1.372656\\nC -3.183426 -1.831566 -1.958342\\nC -4.757275 -0.004712 -1.080927\\nC 2.954101 -0.655536 1.637917\\nC 2.607756 -2.089295 2.067807\\nC 2.562036 0.371609 2.706731\\nC 3.394954 -2.263727 -1.477718\\nC -2.330223 -0.080420 2.856481\\nH -0.003330 -0.519178 1.306979\\nH -2.095145 4.169958 0.383189\\nH 2.276217 4.076682 0.147750\\nH 0.122099 5.406666 0.350825\\nH 2.770900 -0.335606 -2.240146\\nH 4.044626 -0.577740 1.439468\\nH -4.039639 -0.143265 1.533175\\nH -2.872550 0.294667 -2.105908\\nH 5.254329 -0.268210 -2.159100\\nH 4.580612 1.037770 -1.130993\\nH 5.252641 -0.452874 -0.385976\\nH 2.404356 -2.761490 -1.503538\\nH 3.930149 -2.523364 -2.413109\\nH 3.972767 -2.705792 -0.641733\\nH -3.787945 -1.904309 -2.884857\\nH -2.134208 -2.069894 -2.217008\\nH -3.552652 -2.611342 -1.263876\\nH -4.817170 1.011203 -0.643697\\nH -5.341485 -0.000331 -2.023541\\nH -5.256122 -0.715934 -0.392196\\nH -3.757182 -2.420165 2.643615\\nH -3.863040 -2.553274 0.868244\\nH -2.273568 -2.699564 1.687903\\nH -1.334521 -0.550452 2.986993\\nH -2.193560 1.016965 2.797182\\nH -2.930041 -0.297609 3.763185\\nH 2.833229 -2.847397 1.293394\\nH 3.191448 -2.352361 2.972680\\nH 1.532833 -2.176122 2.321970\\nH 2.896386 1.393666 2.447077\\nH 1.462772 0.388637 2.859186\\nH 3.029151 0.094201 3.672995\\nO -0.113793 -0.264513 -2.309160\\nC 0.169969 0.935746 -3.043323\\nH 1.214037 1.283707 -2.888246\\nH -0.520548 1.716948 -2.677593\\nH -0.013986 0.776387 -4.124686\\nH 0.359358 -1.010801 -2.719370\\n\",\"xyz\");\n",
       "\tviewer_1656074122593865.setStyle({\"stick\": {}});\n",
       "\tviewer_1656074122593865.zoomTo();\n",
       "viewer_1656074122593865.render();\n",
       "});\n",
       "</script>"
      ]
     },
     "metadata": {},
     "output_type": "display_data"
    }
   ],
   "source": [
    "data = readXYZ(Path.cwd().joinpath('xyz_files/Fe-MeOH_Complex.xyz'))\n",
    "p = p3d.view(width=400, height=400)\n",
    "p.addModel(data, 'xyz')\n",
    "p.setStyle({'stick': {}})\n",
    "p.zoomTo()\n",
    "p.show()"
   ]
  },
  {
   "cell_type": "markdown",
   "id": "acee44c5-611b-4686-a5ba-b1199657e222",
   "metadata": {},
   "source": [
    "## Generate SI data"
   ]
  },
  {
   "cell_type": "code",
   "execution_count": 11,
   "id": "db3c524c-6b77-44a4-bfcc-d5d67a64633f",
   "metadata": {},
   "outputs": [
    {
     "name": "stderr",
     "output_type": "stream",
     "text": [
      "<ipython-input-11-63b5dd233d07>:29: SettingWithCopyWarning: \n",
      "A value is trying to be set on a copy of a slice from a DataFrame\n",
      "\n",
      "See the caveats in the documentation: https://pandas.pydata.org/pandas-docs/stable/user_guide/indexing.html#returning-a-view-versus-a-copy\n",
      "  df.Complex[idx] = s\n"
     ]
    }
   ],
   "source": [
    "zora[\"Relativity\"] = \"ZORA\"\n",
    "nrel[\"Relativity\"] = \"None\"\n",
    "\n",
    "zora.reset_index(inplace=True)\n",
    "nrel.reset_index(inplace=True)\n",
    "\n",
    "zora.columns.name = None\n",
    "nrel.columns.name = None\n",
    "\n",
    "df = pd.concat([zora, nrel], axis=0)\n",
    "df[\"TransitionMetal\"] = list(map(lambda x: x[0], df.Reaction.str.split(\"-\")))\n",
    "df[\"Ligand\"] = list(map(lambda x: x[1], df.Reaction.str.split(\"-\")))\n",
    "\n",
    "df.ReactionEnergy = df.Complex - df.Fragment1 - df.Fragment2\n",
    "\n",
    "df.sort_values(by=[\"TransitionMetal\", \"Ligand\"], inplace=True)\n",
    "df.reset_index(drop=True, inplace=True)\n",
    "\n",
    "mapping = {\"Cr\": \"(CO)5\", \"Ni\": \"(CO)3\", \"Fe\": \"-Pincer\"}\n",
    "\n",
    "df.rename(columns={\"Complex\": \"EnergyComplex\", \n",
    "                   \"Reaction\": \"Complex\", \n",
    "                   \"Fragment1\": \"EnergyFragment1\",\n",
    "                   \"Fragment2\": \"EnergyFragment2\"},\n",
    "         inplace=True)\n",
    "\n",
    "for idx, row in df.iterrows():\n",
    "    s = row.TransitionMetal + mapping[row.TransitionMetal] + \"-\" + row.Ligand\n",
    "    df.Complex[idx] = s\n",
    "    \n",
    "df[\"MWPrecision\"] = 1e-6"
   ]
  },
  {
   "cell_type": "code",
   "execution_count": null,
   "id": "d00181a4-5dc9-439a-921a-f377261c2d1c",
   "metadata": {},
   "outputs": [],
   "source": []
  },
  {
   "cell_type": "code",
   "execution_count": 12,
   "id": "20fcfe42-a121-4bf0-806e-09a25e157bf3",
   "metadata": {},
   "outputs": [],
   "source": [
    "df.to_csv(\"data_reaction_energies.csv\", index=False)"
   ]
  },
  {
   "cell_type": "code",
   "execution_count": null,
   "id": "14c37d41-759a-4f92-bded-fb6f5a1a3ed6",
   "metadata": {},
   "outputs": [],
   "source": []
  }
 ],
 "metadata": {
  "kernelspec": {
   "display_name": "Python 3",
   "language": "python",
   "name": "python3"
  },
  "language_info": {
   "codemirror_mode": {
    "name": "ipython",
    "version": 3
   },
   "file_extension": ".py",
   "mimetype": "text/x-python",
   "name": "python",
   "nbconvert_exporter": "python",
   "pygments_lexer": "ipython3",
   "version": "3.8.8"
  }
 },
 "nbformat": 4,
 "nbformat_minor": 5
}
