{
 "cells": [
  {
   "cell_type": "code",
   "execution_count": null,
   "id": "dea73a6e-9b40-432d-9e5a-53b12695368a",
   "metadata": {},
   "outputs": [],
   "source": [
    "import pandas as pd\n",
    "import json\n",
    "from glob import glob\n",
    "from pathlib import Path\n",
    "from types import SimpleNamespace\n",
    "import seaborn as sns\n",
    "import matplotlib.pyplot as plt\n",
    "\n",
    "pd.set_option('display.max_rows', None)\n",
    "pd.set_option('display.max_columns', None)\n",
    "pd.set_option('display.width', 1000)\n",
    "pd.set_option('display.precision', 12)\n",
    "\n",
    "sns.set_context('poster')\n",
    "\n",
    "dir_root = Path('').absolute()\n",
    "dir_calc_zora = dir_root.joinpath('calcs_mw_zora')"
   ]
  },
  {
   "cell_type": "code",
   "execution_count": null,
   "id": "ef24c994-f883-4bd2-951a-d9c7c8b011c2",
   "metadata": {},
   "outputs": [],
   "source": [
    "def parseFileName(f):\n",
    "    mol, kin, take, c, ext = f.name.split('_')\n",
    "    return mol, kin, take, float(c)"
   ]
  },
  {
   "cell_type": "code",
   "execution_count": null,
   "id": "333ebd03-d749-4ada-8732-8030e3894e1a",
   "metadata": {},
   "outputs": [],
   "source": [
    "def loadFile(f):\n",
    "    with open(f) as file:\n",
    "        job = json.loads(file.read(), object_hook=lambda item: SimpleNamespace(**item))\n",
    "        \n",
    "    try:\n",
    "        job.output\n",
    "    except AttributeError:\n",
    "        job.output = SimpleNamespace()\n",
    "        \n",
    "    return job"
   ]
  },
  {
   "cell_type": "code",
   "execution_count": null,
   "id": "48190fd7-a301-4da9-aca3-fbcaa15a26e0",
   "metadata": {},
   "outputs": [],
   "source": [
    "def success(job):\n",
    "    try:\n",
    "        return job.output.success\n",
    "    except AttributeError:\n",
    "        return False"
   ]
  },
  {
   "cell_type": "code",
   "execution_count": null,
   "id": "59a9a36d-df6b-4e5e-a562-175ec1f72578",
   "metadata": {},
   "outputs": [],
   "source": [
    "table = []\n",
    "for f in dir_calc_zora.glob('*.json'):\n",
    "    mol, kin, take, c = parseFileName(f)\n",
    "    \n",
    "    job = loadFile(f)\n",
    "    ok = success(job)\n",
    "    \n",
    "    prec = job.input.scf_calculation.scf_solver.final_prec\n",
    "    c = job.input.scf_calculation.scf_solver.light_speed\n",
    "    e = job.output.properties.scf_energy.E_tot if ok else None\n",
    "    niter = len(job.output.scf_calculation.scf_solver.cycles) if ok else None\n",
    "    w = job.output.scf_calculation.scf_solver.wall_time / niter * job.output.provenance.total_cores if ok else None\n",
    "    final_update = job.output.scf_calculation.scf_solver.cycles[-1].energy_update if ok else None\n",
    "    \n",
    "    table.append((mol, kin, take, c, e, niter, prec, w, final_update))\n",
    "    \n",
    "df = pd.DataFrame(table, columns=['Molecule', 'Kinetic', 'Take', 'LightSpeed', 'Energy', 'NIter', 'Precision', 'CPUTime', 'EnergyConvergence']).sort_values(by=['LightSpeed', 'Molecule', 'Kinetic', 'Take']).reset_index(drop=True)\n",
    "df['Algorithm'] = df.Kinetic + df.Take"
   ]
  },
  {
   "cell_type": "code",
   "execution_count": null,
   "id": "247c054d-9b08-4847-b8fc-a3afefb9be9c",
   "metadata": {},
   "outputs": [],
   "source": [
    "print(df.loc[(df.LightSpeed.map(int) == 13) & (df.Kinetic.map(int) == 0)].sort_values(by=['Molecule', 'Take', 'Kinetic'])[['Molecule', 'Take', 'Kinetic', 'LightSpeed', 'Precision', 'Energy', 'EnergyConvergence']])"
   ]
  },
  {
   "cell_type": "code",
   "execution_count": null,
   "id": "ae0e3dad-f30d-44ab-aa3c-398e121b4001",
   "metadata": {},
   "outputs": [],
   "source": [
    "print(df.loc[(df.LightSpeed.map(int) == 137) & (df.Kinetic.map(int) == 0)].sort_values(by=['Molecule', 'Take', 'Kinetic'])[['Molecule', 'Take', 'Kinetic', 'LightSpeed', 'Precision', 'Energy', 'EnergyConvergence']])"
   ]
  },
  {
   "cell_type": "code",
   "execution_count": null,
   "id": "47c5f3d3-a9ff-481f-b4eb-79d9b6502e3f",
   "metadata": {},
   "outputs": [],
   "source": [
    "print(df.loc[(df.LightSpeed > 138) & (df.Kinetic.map(int) == 0)].sort_values(by=['Molecule', 'Take', 'Kinetic'])[['Molecule', 'Take', 'Kinetic', 'LightSpeed', 'Precision', 'Energy', 'EnergyConvergence']])"
   ]
  },
  {
   "cell_type": "code",
   "execution_count": null,
   "id": "6323e5a8-8c53-4d87-87a0-9ddcca8b57d3",
   "metadata": {},
   "outputs": [],
   "source": [
    "print(df.pivot(index='Molecule', values=['EnergyConvergence'], columns=['Take', 'Kinetic', 'LightSpeed']).transpose().sort_values(by=['Kinetic', 'Take', 'LightSpeed']))"
   ]
  },
  {
   "cell_type": "code",
   "execution_count": 26,
   "id": "b57590ea-e018-4f7b-b062-b575ac39aaa0",
   "metadata": {},
   "outputs": [
    {
     "name": "stdout",
     "output_type": "stream",
     "text": [
      "He -2.892935491418813 -2.892935491135128 2.8368463134142985e-10\n",
      "Ne -93.79226382987301 -93.79226358279418 2.4707883028440847e-07\n",
      "Ar -312.6875153796463 -312.6875127465987 2.6330475861868763e-06\n",
      "Kr -1273.201397756162 -1273.201353956275 4.379988695291104e-05\n",
      "H2O -76.38852580283374 -76.38852568901055 1.1382319087260839e-07\n",
      "LiH -8.047347899171163 -8.04734789762583 1.5453327506520509e-09\n"
     ]
    }
   ],
   "source": [
    "table = []\n",
    "d_zora = Path('').absolute().joinpath('calcs_mw_zora/')\n",
    "d_nr = Path('').absolute().joinpath('calcs_mw_nr/')\n",
    "\n",
    "for mol in ['He', 'Ne', 'Ar', 'Kr', 'H2O', 'LiH']:\n",
    "    zora = loadFile(d_zora.joinpath(f'{mol}_0_0_137036_.json'))\n",
    "    nr = loadFile(d_nr.joinpath(mol+'_.json'))\n",
    "    \n",
    "    e_zora = zora.output.properties.scf_energy.E_tot\n",
    "    e_nr = nr.output.properties.scf_energy.E_tot\n",
    "    \n",
    "    print(mol, e_zora, e_nr, abs(e_zora - e_nr))"
   ]
  },
  {
   "cell_type": "code",
   "execution_count": null,
   "id": "4f34c3e4-2c01-40bc-9884-8acb6d2130a9",
   "metadata": {},
   "outputs": [],
   "source": []
  }
 ],
 "metadata": {
  "kernelspec": {
   "display_name": "Python 3",
   "language": "python",
   "name": "python3"
  },
  "language_info": {
   "codemirror_mode": {
    "name": "ipython",
    "version": 3
   },
   "file_extension": ".py",
   "mimetype": "text/x-python",
   "name": "python",
   "nbconvert_exporter": "python",
   "pygments_lexer": "ipython3",
   "version": "3.8.8"
  }
 },
 "nbformat": 4,
 "nbformat_minor": 5
}
