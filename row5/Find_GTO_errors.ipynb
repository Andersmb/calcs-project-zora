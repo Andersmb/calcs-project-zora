{
 "cells": [
  {
   "cell_type": "code",
   "execution_count": 2,
   "id": "ffee4455-14da-43bc-9516-f876a0fa5a6a",
   "metadata": {},
   "outputs": [
    {
     "name": "stdout",
     "output_type": "stream",
     "text": [
      "No errors :)\n"
     ]
    }
   ],
   "source": [
    "from pathlib import Path\n",
    "\n",
    "errors = [\n",
    "    \"ERROR\",\n",
    "    \"SCF NOT CONVERGED\",\n",
    "    \"IS NOT FULLY CONVERGED\",\n",
    "    \"SCF NOT CONVERGED AFTER\",\n",
    "    \"SERIOUS PROBLEM IN SOSCF\"\n",
    "]\n",
    "\n",
    "calcs_zora = \"calcs_zora_gto_defgrid3\"\n",
    "calcs_nr = \"calcs_nr_gto\"\n",
    "dirs = [calcs_zora, calcs_nr]\n",
    "\n",
    "for d in dirs:\n",
    "    for f in Path(d).glob(\"*.out\"):\n",
    "        with f.open() as outfile:\n",
    "            s = outfile.read()\n",
    "        if any([e in s for e in errors]):\n",
    "            print(f)\n",
    "else:\n",
    "    print(\"No errors :)\")"
   ]
  },
  {
   "cell_type": "code",
   "execution_count": null,
   "id": "1f8bd14f-d2e3-49e7-9b18-0a0ed7d4ac2d",
   "metadata": {},
   "outputs": [],
   "source": []
  }
 ],
 "metadata": {
  "kernelspec": {
   "display_name": "Python 3",
   "language": "python",
   "name": "python3"
  },
  "language_info": {
   "codemirror_mode": {
    "name": "ipython",
    "version": 3
   },
   "file_extension": ".py",
   "mimetype": "text/x-python",
   "name": "python",
   "nbconvert_exporter": "python",
   "pygments_lexer": "ipython3",
   "version": "3.8.8"
  }
 },
 "nbformat": 4,
 "nbformat_minor": 5
}
